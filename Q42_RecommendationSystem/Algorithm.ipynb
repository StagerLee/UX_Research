{
 "cells": [
  {
   "cell_type": "code",
   "execution_count": 1,
   "id": "8d26f1bd",
   "metadata": {
    "pycharm": {
     "name": "#%%\n"
    }
   },
   "outputs": [],
   "source": [
    "import pandas as pd\n",
    "from sklearn.metrics.pairwise import pairwise_distances\n",
    "import tkinter as tk\n",
    "from PIL import ImageTk\n",
    "from sklearn.preprocessing import normalize"
   ]
  },
  {
   "cell_type": "code",
   "execution_count": 2,
   "id": "c73441cc",
   "metadata": {
    "pycharm": {
     "name": "#%%\n"
    }
   },
   "outputs": [],
   "source": [
    "# def open_image2(imgurl, verbose=False):\n",
    "#     if verbose:\n",
    "#         print(imgurl)\n",
    "#     try:\n",
    "#         img1 = Image.open(BytesIO(requests.get(imgurl).content))\n",
    "#         img1 = img1.resize((256,256))\n",
    "#     except Image.UnidentifiedImageError:\n",
    "#         print('Image not found')\n",
    "#         return None\n",
    "#     return img1\n",
    "\n",
    "# if False:\n",
    "#     movements = pd.read_csv('./rijksdata_with_movements.csv')\n",
    "#     images = [open_image2(imgurl) for imgurl in movements['web']]\n",
    "#     movements['image'] = images\n",
    "#     movements.to_pickle('paintings.pkl')"
   ]
  },
  {
   "cell_type": "code",
   "execution_count": 2,
   "id": "a61c13fd",
   "metadata": {
    "pycharm": {
     "name": "#%%\n"
    }
   },
   "outputs": [],
   "source": [
    "def find_closest(urlname):\n",
    "    urlss = similarities.loc[urlname].sort_values(ascending=False).keys()\n",
    "    return urlss\n",
    "\n",
    "def open_image(title):\n",
    "    photo = movements.loc[movements['webImage.url_x'] == title, 'image'].iloc[0]\n",
    "    return ImageTk.PhotoImage(photo)"
   ]
  },
  {
   "cell_type": "code",
   "execution_count": 3,
   "id": "a262d701",
   "metadata": {
    "pycharm": {
     "name": "#%%\n"
    }
   },
   "outputs": [],
   "source": [
    "movements = pd.read_pickle('paintings.pkl')"
   ]
  },
  {
   "cell_type": "code",
   "execution_count": 4,
   "id": "c29b482a",
   "metadata": {
    "pycharm": {
     "name": "#%%\n"
    }
   },
   "outputs": [],
   "source": [
    "classes = movements.loc[:,'abstract-art':'ukiyo-e']\n",
    "similarities = pairwise_distances(classes,metric='cosine')\n",
    "explores = normalize(similarities, axis=0)\n",
    "similarities = pd.DataFrame(similarities, columns = movements['webImage.url_x'], index=movements['webImage.url_x'])\n",
    "explores = pd.DataFrame(explores, columns = movements['webImage.url_x'], index=movements['webImage.url_x'])"
   ]
  },
  {
   "cell_type": "code",
   "execution_count": 5,
   "id": "42d4147a",
   "metadata": {
    "pycharm": {
     "name": "#%%\n"
    }
   },
   "outputs": [],
   "source": [
    "images = movements['webImage.url_x']\n",
    "urls = [[images[0], images[0], images[0], images[0], images[0]], \n",
    "        [images[0], images[0], images[0], images[0], images[0]]]"
   ]
  },
  {
   "cell_type": "code",
   "execution_count": 6,
   "id": "a62510ec",
   "metadata": {
    "pycharm": {
     "name": "#%%\n"
    }
   },
   "outputs": [],
   "source": [
    "root = tk.Tk()\n",
    "\n",
    "# Create a grid of labels to display the images\n",
    "filler = open_image(urls[0][0])\n",
    "image_grid = [[tk.Button(root, image = filler) for x in range(5)] + [tk.Button(root, text = \"\"\"Row 1:\n",
    "Similar \n",
    "paintings\"\"\")]]\n",
    "image_grid += [[tk.Button(root, image = filler) for x in range(5)] + [tk.Button(root, text = \"\"\"Row 2:\n",
    "Similarity \n",
    "line \n",
    "(similar \n",
    "... \n",
    "neutral \n",
    "... \n",
    "different)\"\"\")]]\n",
    "image_grid += [[tk.Button(root, image = filler), tk.Button(root, text='Row 3: Chosen picture')]]\n",
    "\n",
    "def change_image(x,y):\n",
    "    url = urls[x][y]\n",
    "    try:\n",
    "        picsims = similarities.loc[url].sort_values()[1:].keys()\n",
    "        picexpl = explores.loc[url].sort_values()[1:].keys()\n",
    "    except TypeError:\n",
    "        print(similarities.loc[url].head())\n",
    "        print(explores.loc[url].head())\n",
    "    for i in range (2):\n",
    "        for j in range(5):\n",
    "            if i == 0:\n",
    "                url1 = picsims[j]\n",
    "            elif i == 1:\n",
    "                value = 1/5 * (len(picexpl)-1)\n",
    "                url1 = picexpl[int(value + (j * value))]\n",
    "\n",
    "            photo = open_image(url1)\n",
    "            image_grid[i][j].config(image=photo)\n",
    "            image_grid[i][j].image = photo\n",
    "            urls[i][j] = url1\n",
    "\n",
    "    photo = open_image(url)\n",
    "    image_grid[2][0].config(image=photo)\n",
    "    image_grid[2][0].image = photo\n",
    "    \n",
    "\n",
    "# Bind labels to the function\n",
    "for i in range(2):\n",
    "    for j in range(5):\n",
    "        image_grid[i][j].bind(\"<Button-1>\", lambda event, x=i, y=j: change_image(x,y))\n",
    "        image_grid[i][j].grid(row=i, column=j)\n",
    "image_grid[2][0].grid(row=3, column=0)\n",
    "image_grid[2][1].grid(row=3, column=1)\n",
    "image_grid[0][5].grid(row=0, column=5)\n",
    "image_grid[1][5].grid(row=1, column=5)\n",
    "\n",
    "\n",
    "# Start the main loop\n",
    "root.mainloop()"
   ]
  },
  {
   "cell_type": "code",
   "execution_count": null,
   "id": "d78bfb49",
   "metadata": {},
   "outputs": [],
   "source": []
  }
 ],
 "metadata": {
  "kernelspec": {
   "display_name": "Python 3 (ipykernel)",
   "language": "python",
   "name": "python3"
  },
  "language_info": {
   "codemirror_mode": {
    "name": "ipython",
    "version": 3
   },
   "file_extension": ".py",
   "mimetype": "text/x-python",
   "name": "python",
   "nbconvert_exporter": "python",
   "pygments_lexer": "ipython3",
   "version": "3.9.12"
  }
 },
 "nbformat": 4,
 "nbformat_minor": 5
}
